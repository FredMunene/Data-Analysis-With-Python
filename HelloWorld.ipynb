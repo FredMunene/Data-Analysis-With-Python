{
  "nbformat": 4,
  "nbformat_minor": 0,
  "metadata": {
    "colab": {
      "provenance": [],
      "authorship_tag": "ABX9TyOuSeEJQ6puUi6qjuUpLqOc",
      "include_colab_link": true
    },
    "kernelspec": {
      "name": "python3",
      "display_name": "Python 3"
    },
    "language_info": {
      "name": "python"
    }
  },
  "cells": [
    {
      "cell_type": "markdown",
      "metadata": {
        "id": "view-in-github",
        "colab_type": "text"
      },
      "source": [
        "<a href=\"https://colab.research.google.com/github/FredMunene/Data-Analysis-With-Python/blob/main/HelloWorld.ipynb\" target=\"_parent\"><img src=\"https://colab.research.google.com/assets/colab-badge.svg\" alt=\"Open In Colab\"/></a>"
      ]
    },
    {
      "cell_type": "code",
      "execution_count": null,
      "metadata": {
        "colab": {
          "base_uri": "https://localhost:8080/"
        },
        "id": "tzX6tiGK9JpK",
        "outputId": "12d813fd-ec0b-4437-aa9c-7ccb2e07fb37"
      },
      "outputs": [
        {
          "output_type": "stream",
          "name": "stdout",
          "text": [
            "Hello, DPhi! Today I executed my very first Python program. Thanks!\n"
          ]
        }
      ],
      "source": [
        "print(\"Hello, DPhi! Today I executed my very first Python program. Thanks!\")"
      ]
    },
    {
      "cell_type": "code",
      "source": [
        "a = \"hello wprld\"\n",
        "print (len(a))"
      ],
      "metadata": {
        "colab": {
          "base_uri": "https://localhost:8080/"
        },
        "id": "jXLSik71976B",
        "outputId": "e7b40d81-d2ad-4598-9a09-a30c17d88d5c"
      },
      "execution_count": null,
      "outputs": [
        {
          "output_type": "stream",
          "name": "stdout",
          "text": [
            "11\n"
          ]
        }
      ]
    },
    {
      "cell_type": "code",
      "source": [
        "list = [1, \"baby\", 3.24]\n",
        "list.append(\"baby\")\n",
        "list.count(\"baby\")\n",
        "list.sort()"
      ],
      "metadata": {
        "id": "CW5f9Vdo-LAg"
      },
      "execution_count": null,
      "outputs": []
    },
    {
      "cell_type": "code",
      "source": [
        "tuple = (1,2,3,4)"
      ],
      "metadata": {
        "id": "paTK3k1I-mhw"
      },
      "execution_count": null,
      "outputs": []
    },
    {
      "cell_type": "markdown",
      "source": [
        "# Loops\n"
      ],
      "metadata": {
        "id": "lBcCuWCf-1_p"
      }
    },
    {
      "cell_type": "code",
      "source": [
        "a = (\"a\",\"b\",\"c\")"
      ],
      "metadata": {
        "id": "vY3DtZHI_kjm"
      },
      "execution_count": null,
      "outputs": []
    },
    {
      "cell_type": "code",
      "source": [],
      "metadata": {
        "id": "COltzG1E_tCE"
      },
      "execution_count": null,
      "outputs": []
    },
    {
      "cell_type": "code",
      "source": [
        "for elements in a:\n",
        "  print (elements)\n"
      ],
      "metadata": {
        "id": "h0G3dyRL_QGC"
      },
      "execution_count": null,
      "outputs": []
    },
    {
      "cell_type": "code",
      "source": [
        "range (1,5)\n",
        "\n",
        "c = list(range(1,5))\n",
        "\n",
        "for i in range(1,5):\n",
        "  print(i)"
      ],
      "metadata": {
        "id": "1nvYoj4bAO4y"
      },
      "execution_count": null,
      "outputs": []
    },
    {
      "cell_type": "markdown",
      "source": [
        "Using While loop to print first ten natural numbers."
      ],
      "metadata": {
        "id": "uHm1gdvlEOUb"
      }
    },
    {
      "cell_type": "code",
      "source": [
        "t = []\n",
        "x = 0\n",
        "while len(t) < 10:\n",
        "  x += 1\n",
        "  t.append(x)\n",
        "print(t)\n",
        "\n",
        "\n",
        "\n",
        "\n"
      ],
      "metadata": {
        "colab": {
          "base_uri": "https://localhost:8080/"
        },
        "id": "wE9E8S9WDQxM",
        "outputId": "568cd594-97d4-4e6b-a6e7-e4084fca22c4"
      },
      "execution_count": null,
      "outputs": [
        {
          "output_type": "stream",
          "name": "stdout",
          "text": [
            "[1, 2, 3, 4, 5, 6, 7, 8, 9, 10]\n"
          ]
        }
      ]
    },
    {
      "cell_type": "markdown",
      "source": [
        "Iterate over list and print the elements"
      ],
      "metadata": {
        "id": "MZQ9pYNyGvRe"
      }
    },
    {
      "cell_type": "code",
      "source": [
        "list1 = [12, 15, 32, 42, 55, 75, 122, 132, 150, 180, 200]\n",
        "for i in list1:\n",
        "  print(i, end =\" \")"
      ],
      "metadata": {
        "colab": {
          "base_uri": "https://localhost:8080/"
        },
        "id": "O6SRMAikGzGZ",
        "outputId": "41767957-b140-481d-f583-e2ee88e03d6f"
      },
      "execution_count": null,
      "outputs": [
        {
          "output_type": "stream",
          "name": "stdout",
          "text": [
            "12 15 32 42 55 75 122 132 150 180 200 "
          ]
        }
      ]
    },
    {
      "cell_type": "markdown",
      "source": [
        "Accept a number n from the user and print its multiplication table"
      ],
      "metadata": {
        "id": "WxmGLLyeHIkJ"
      }
    },
    {
      "cell_type": "code",
      "source": [
        "n = int(input(\"Enter a number to get its multiplication table\"))\n",
        "multiples_n = []\n",
        "for i in range (100):\n",
        "  m = i*n\n",
        "  multiples_n.append(m)\n",
        "print(multiples_n)\n"
      ],
      "metadata": {
        "colab": {
          "base_uri": "https://localhost:8080/"
        },
        "id": "bkYpDydQHPBz",
        "outputId": "e56bd913-528c-47e8-c5d2-effc8f8adef9"
      },
      "execution_count": null,
      "outputs": [
        {
          "output_type": "stream",
          "name": "stdout",
          "text": [
            "Enter a number to get its multiplication table6\n",
            "[0, 6, 12, 18, 24, 30, 36, 42, 48, 54, 60, 66, 72, 78, 84, 90, 96, 102, 108, 114, 120, 126, 132, 138, 144, 150, 156, 162, 168, 174, 180, 186, 192, 198, 204, 210, 216, 222, 228, 234, 240, 246, 252, 258, 264, 270, 276, 282, 288, 294, 300, 306, 312, 318, 324, 330, 336, 342, 348, 354, 360, 366, 372, 378, 384, 390, 396, 402, 408, 414, 420, 426, 432, 438, 444, 450, 456, 462, 468, 474, 480, 486, 492, 498, 504, 510, 516, 522, 528, 534, 540, 546, 552, 558, 564, 570, 576, 582, 588, 594]\n"
          ]
        }
      ]
    },
    {
      "cell_type": "markdown",
      "source": [
        "Use the enumerate function to print the elements of this list along with the indices:\n",
        "grocery = ['bread', 'milk', 'butter']\n",
        "\n",
        "Enumarate function iterates over elements of a list and associates an index with them."
      ],
      "metadata": {
        "id": "0nGylWfCI85l"
      }
    },
    {
      "cell_type": "code",
      "source": [
        "grocery = ['bread', 'milk', 'butter']\n",
        "for index, snack in enumerate(grocery):\n",
        "  print(\"index \" + str(index)+ \":\" + str(snack))"
      ],
      "metadata": {
        "colab": {
          "base_uri": "https://localhost:8080/"
        },
        "id": "SXIQ9lfvI--G",
        "outputId": "b26057a9-4ea1-48a1-f08e-a70135c9d6c4"
      },
      "execution_count": null,
      "outputs": [
        {
          "output_type": "stream",
          "name": "stdout",
          "text": [
            "index 0:bread\n",
            "index 1:milk\n",
            "index 2:butter\n"
          ]
        }
      ]
    },
    {
      "cell_type": "code",
      "source": [
        "grocery = ['bread', 'milk', 'butter']\n",
        "i=0\n",
        "while i < len(grocery):\n",
        "  print (\"index \" + str(i)+\" : \"+ grocery[i] )\n",
        "  i+=1\n",
        "\n",
        "#print(grocery[0])\n"
      ],
      "metadata": {
        "colab": {
          "base_uri": "https://localhost:8080/"
        },
        "id": "8t2oSKlVKpgs",
        "outputId": "abeeea33-48de-4b63-c052-3ca8fd62641b"
      },
      "execution_count": null,
      "outputs": [
        {
          "output_type": "stream",
          "name": "stdout",
          "text": [
            "index 0 : bread\n",
            "index 1 : milk\n",
            "index 2 : butter\n"
          ]
        }
      ]
    },
    {
      "cell_type": "markdown",
      "source": [
        "Take a number n from the user and find the sum of all numbers between 1 to n"
      ],
      "metadata": {
        "id": "5hhleX8oMeW7"
      }
    },
    {
      "cell_type": "code",
      "source": [
        "n = int(input(\"Enter a number to get its multiplication table\"))\n"
      ],
      "metadata": {
        "id": "bSYTY3uxMfJU"
      },
      "execution_count": null,
      "outputs": []
    }
  ]
}