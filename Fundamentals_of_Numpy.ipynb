{
  "nbformat": 4,
  "nbformat_minor": 0,
  "metadata": {
    "colab": {
      "provenance": [],
      "authorship_tag": "ABX9TyOrEiooKXJrJ4ze0D6wZa3f",
      "include_colab_link": true
    },
    "kernelspec": {
      "name": "python3",
      "display_name": "Python 3"
    },
    "language_info": {
      "name": "python"
    }
  },
  "cells": [
    {
      "cell_type": "markdown",
      "metadata": {
        "id": "view-in-github",
        "colab_type": "text"
      },
      "source": [
        "<a href=\"https://colab.research.google.com/github/FredMunene/Data-Analysis-With-Python/blob/main/Fundamentals_of_Numpy.ipynb\" target=\"_parent\"><img src=\"https://colab.research.google.com/assets/colab-badge.svg\" alt=\"Open In Colab\"/></a>"
      ]
    },
    {
      "cell_type": "markdown",
      "source": [
        "Numpy enables scientific computing and high perfomance tasks execution with multi-dimensional or n-dimensional arrays."
      ],
      "metadata": {
        "id": "LWDcTpOZveq9"
      }
    },
    {
      "cell_type": "markdown",
      "source": [],
      "metadata": {
        "id": "kdRQP24jvvQJ"
      }
    },
    {
      "cell_type": "code",
      "source": [
        "import numpy as np\n",
        "from timeit import Timer #Timer module for calculating time scripts take to run"
      ],
      "metadata": {
        "id": "m_W1sYI_vzHA"
      },
      "execution_count": null,
      "outputs": []
    },
    {
      "cell_type": "code",
      "source": [
        "size_of_vec = 10000  #specifies numbers inrange of 0-9999\n",
        "X_list = range(size_of_vec)\n",
        "Y_list = range(size_of_vec)\n",
        "X = np.arange(size_of_vec)\n",
        "Y = np.arange(size_of_vec)\n"
      ],
      "metadata": {
        "id": "3Lkh325gwgzB"
      },
      "execution_count": null,
      "outputs": []
    },
    {
      "cell_type": "code",
      "source": [
        "def list_version(): #Based on using lists\n",
        "  Z = []\n",
        "  for i in range (len(X_list)):\n",
        "    Z.append(X_list[i] + Y_list[i])\n"
      ],
      "metadata": {
        "id": "R-e3THlrxKWS"
      },
      "execution_count": null,
      "outputs": []
    },
    {
      "cell_type": "code",
      "source": [
        "def numpy_version():#Based on Numpy \n",
        "   Z = X + Y\n"
      ],
      "metadata": {
        "id": "iFFwWhvex05v"
      },
      "execution_count": null,
      "outputs": []
    },
    {
      "cell_type": "code",
      "source": [
        "timer_obj1 = Timer (\"list_version()\", \"from __main__ import list_version\")\n",
        "timer_obj2 = Timer (\"numpy_version()\", \"from __main__ import numpy_version\")\n",
        "\n",
        "print(\"list version : \", timer_obj1.timeit(10))\n",
        "print(\"numpy version : \", timer_obj2.timeit(10))"
      ],
      "metadata": {
        "colab": {
          "base_uri": "https://localhost:8080/"
        },
        "id": "CQ8FqFzTySEO",
        "outputId": "18db8ffb-e457-4cd2-e694-78b74c82737c"
      },
      "execution_count": null,
      "outputs": [
        {
          "output_type": "stream",
          "name": "stdout",
          "text": [
            "list version :  0.04408747900004073\n",
            "numpy version :  0.0035764149999977235\n"
          ]
        }
      ]
    },
    {
      "cell_type": "markdown",
      "source": [
        "  Array - collection of ordered elements of same data type."
      ],
      "metadata": {
        "id": "fx2RLnG_taOL"
      }
    },
    {
      "cell_type": "markdown",
      "source": [
        "Vector - O1 dimension array"
      ],
      "metadata": {
        "id": "RVw5MS_Atl3o"
      }
    },
    {
      "cell_type": "markdown",
      "source": [
        "N-dimension"
      ],
      "metadata": {
        "id": "b40vN7MwtruU"
      }
    },
    {
      "cell_type": "markdown",
      "source": [
        "Matrix- Rows and columns\n",
        "\n",
        "m x n array of scalars . Individual values are called entries. rows X columns"
      ],
      "metadata": {
        "id": "eJsVBTcXtxRa"
      }
    },
    {
      "cell_type": "markdown",
      "source": [
        "NUmerical Python(Numpy)\n",
        "> For multi-dimensional arrays\n"
      ],
      "metadata": {
        "id": "jDODMcXYtYr5"
      }
    },
    {
      "cell_type": "markdown",
      "source": [
        "Shape of Matrix = the number of dimensions. "
      ],
      "metadata": {
        "id": "V9_LtXALu1bX"
      }
    },
    {
      "cell_type": "markdown",
      "source": [
        "**Creating Numpy Array from Python List**"
      ],
      "metadata": {
        "id": "_5YN3IJX0Rrx"
      }
    },
    {
      "cell_type": "code",
      "source": [
        "heights = [14,23,34,35,36,37]\n",
        "\n",
        "heights_np = np.array((heights)) #one-dimesnional array\n",
        "print(type(heights))\n",
        "print(type(heights_np))"
      ],
      "metadata": {
        "colab": {
          "base_uri": "https://localhost:8080/"
        },
        "id": "WYYgCnZy0ZtN",
        "outputId": "d326183a-f317-4917-f482-d50375404e34"
      },
      "execution_count": null,
      "outputs": [
        {
          "output_type": "stream",
          "name": "stdout",
          "text": [
            "<class 'list'>\n",
            "<class 'numpy.ndarray'>\n"
          ]
        }
      ]
    },
    {
      "cell_type": "code",
      "source": [
        "weights = np.array([[40,41,42,43],[50,51,52,53],[60,61,62,63],[70,71,72,73],[80,81,82,83],[90,91,92,94]])\n",
        "print(weights)\n"
      ],
      "metadata": {
        "colab": {
          "base_uri": "https://localhost:8080/"
        },
        "id": "qrLeSpOC03X9",
        "outputId": "db92db45-73a0-4c2d-fa4c-460ac0810884"
      },
      "execution_count": null,
      "outputs": [
        {
          "output_type": "stream",
          "name": "stdout",
          "text": [
            "[[40 41 42 43]\n",
            " [50 51 52 53]\n",
            " [60 61 62 63]\n",
            " [70 71 72 73]\n",
            " [80 81 82 83]\n",
            " [90 91 92 94]]\n"
          ]
        }
      ]
    },
    {
      "cell_type": "markdown",
      "source": [
        "Attributes of ndarray objects.\n",
        "1.ndim : no. of dimensions of array\n",
        "2.shape : (number_rowa, number_columns)\n",
        "3.size : total no. of elements\n",
        "4. dtypes : type of data\n",
        "5. stries : no. of bytes tht are moved tostore each row abd column in memory (no_bytes_files,no_bytes_columns)"
      ],
      "metadata": {
        "id": "KcoTt48I2WGz"
      }
    },
    {
      "cell_type": "code",
      "source": [
        "print(\"dimension: \", weights.ndim)\n",
        "print(\"shape: \",weights.shape)\n",
        "print(\"size: \",weights.size)\n",
        "print(\"dtype: \",weights.dtype)\n",
        "print(\"strides: \",weights.strides)\n"
      ],
      "metadata": {
        "colab": {
          "base_uri": "https://localhost:8080/"
        },
        "id": "GgabbOLA2a0J",
        "outputId": "bdd4e2bd-20f4-4dd4-909e-85252e50d5f9"
      },
      "execution_count": null,
      "outputs": [
        {
          "output_type": "stream",
          "name": "stdout",
          "text": [
            "dimension:  2\n",
            "shape:  (6, 4)\n",
            "size:  24\n",
            "dtype:  int64\n",
            "strides:  (32, 8)\n"
          ]
        }
      ]
    },
    {
      "cell_type": "markdown",
      "source": [
        "dimension:  2  >two-dimensional array\n",
        "shape:  (6, 4)\n",
        "size:  24\n",
        "dtype:  int64\n",
        "strides:  (32, 8)"
      ],
      "metadata": {
        "id": "hD5cUd5M6Tbc"
      }
    },
    {
      "cell_type": "code",
      "source": [],
      "metadata": {
        "id": "TzEnGWHv6g6h"
      },
      "execution_count": null,
      "outputs": []
    },
    {
      "cell_type": "markdown",
      "source": [
        "Functions of numpy arrays"
      ],
      "metadata": {
        "id": "XL88AjR-6hUi"
      }
    },
    {
      "cell_type": "code",
      "source": [
        "xx = np.zeros(shape=(3,4), dtype =\"int32\") #a zero-array\n",
        "print(xx)"
      ],
      "metadata": {
        "colab": {
          "base_uri": "https://localhost:8080/"
        },
        "id": "yOWiI6Ca6p3C",
        "outputId": "4db8bb13-2095-4047-b9da-3e2bb539dc35"
      },
      "execution_count": null,
      "outputs": [
        {
          "output_type": "stream",
          "name": "stdout",
          "text": [
            "[[0 0 0 0]\n",
            " [0 0 0 0]\n",
            " [0 0 0 0]]\n"
          ]
        }
      ]
    },
    {
      "cell_type": "code",
      "source": [
        "x = np.arange(start=100, stop=110, step=1) # i inclusive, j exclusive\n",
        "print(x)"
      ],
      "metadata": {
        "colab": {
          "base_uri": "https://localhost:8080/"
        },
        "id": "s7H9qEF061pa",
        "outputId": "0d04ad31-85ae-42a0-bdc2-dd118b23da44"
      },
      "execution_count": null,
      "outputs": [
        {
          "output_type": "stream",
          "name": "stdout",
          "text": [
            "[100 101 102 103 104 105 106 107 108 109]\n"
          ]
        }
      ]
    },
    {
      "cell_type": "code",
      "source": [
        "x_lin = np.linspace(start=10, stop=50, num=30) #array of \"n\" values in total. equal magnitude\n",
        "print(x_lin)"
      ],
      "metadata": {
        "colab": {
          "base_uri": "https://localhost:8080/"
        },
        "id": "rWED_8I77BsA",
        "outputId": "0ac59066-70d3-4b7e-ab5e-3b45611620ca"
      },
      "execution_count": null,
      "outputs": [
        {
          "output_type": "stream",
          "name": "stdout",
          "text": [
            "[10.         11.37931034 12.75862069 14.13793103 15.51724138 16.89655172\n",
            " 18.27586207 19.65517241 21.03448276 22.4137931  23.79310345 25.17241379\n",
            " 26.55172414 27.93103448 29.31034483 30.68965517 32.06896552 33.44827586\n",
            " 34.82758621 36.20689655 37.5862069  38.96551724 40.34482759 41.72413793\n",
            " 43.10344828 44.48275862 45.86206897 47.24137931 48.62068966 50.        ]\n"
          ]
        }
      ]
    },
    {
      "cell_type": "code",
      "source": [
        "x_ful = np.full(shape=(5,6), fill_value=3) # all values are \"f\"\n",
        "print(x_ful)"
      ],
      "metadata": {
        "colab": {
          "base_uri": "https://localhost:8080/"
        },
        "id": "PsGM34Bg7T_s",
        "outputId": "d7019184-301f-44d4-b603-7a46324c2ac5"
      },
      "execution_count": null,
      "outputs": [
        {
          "output_type": "stream",
          "name": "stdout",
          "text": [
            "[[3 3 3 3 3 3]\n",
            " [3 3 3 3 3 3]\n",
            " [3 3 3 3 3 3]\n",
            " [3 3 3 3 3 3]\n",
            " [3 3 3 3 3 3]]\n"
          ]
        }
      ]
    },
    {
      "cell_type": "markdown",
      "source": [
        "Reshaping an array"
      ],
      "metadata": {
        "id": "aAA_lorJ8vvn"
      }
    },
    {
      "cell_type": "code",
      "source": [
        "print(weights.shape)\n",
        "print(weights)"
      ],
      "metadata": {
        "id": "cGtxruFs8u9r"
      },
      "execution_count": null,
      "outputs": []
    },
    {
      "cell_type": "code",
      "source": [
        "weights1 = weights.reshape((4,6)) # values distributed fromleft-to-right then top-to-bottom\n",
        "print(weights1)"
      ],
      "metadata": {
        "id": "UAM2Rctg88Dc"
      },
      "execution_count": null,
      "outputs": []
    },
    {
      "cell_type": "code",
      "source": [
        "weights2 = weights.reshape((2,6,2))\n",
        "print(weights2)"
      ],
      "metadata": {
        "id": "TOP77gkZ9Tl5",
        "colab": {
          "base_uri": "https://localhost:8080/"
        },
        "outputId": "51019f08-6db7-4cc5-a31c-35cb81a544b2"
      },
      "execution_count": null,
      "outputs": [
        {
          "output_type": "stream",
          "name": "stdout",
          "text": [
            "[[[40 41]\n",
            "  [42 43]\n",
            "  [50 51]\n",
            "  [52 53]\n",
            "  [60 61]\n",
            "  [62 63]]\n",
            "\n",
            " [[70 71]\n",
            "  [72 73]\n",
            "  [80 81]\n",
            "  [82 83]\n",
            "  [90 91]\n",
            "  [92 94]]]\n"
          ]
        }
      ]
    },
    {
      "cell_type": "code",
      "source": [
        "weights_flattened = weights.flatten() #elements re-organized into one-dimensional array\n",
        "weights_flattened"
      ],
      "metadata": {
        "colab": {
          "base_uri": "https://localhost:8080/"
        },
        "id": "IJeiXHJ69zJZ",
        "outputId": "7b87ecc3-e670-4233-f3e7-9b54d6fbe0ba"
      },
      "execution_count": null,
      "outputs": [
        {
          "output_type": "execute_result",
          "data": {
            "text/plain": [
              "array([40, 41, 42, 43, 50, 51, 52, 53, 60, 61, 62, 63, 70, 71, 72, 73, 80,\n",
              "       81, 82, 83, 90, 91, 92, 94])"
            ]
          },
          "metadata": {},
          "execution_count": 35
        }
      ]
    },
    {
      "cell_type": "markdown",
      "source": [
        "Create an array of 51 elements starting at 100 and ending at 500, using the two functions np.linspace() and np.arange(). Arrays must have the same content, with the names array_lin and array_ara, respectively. Verify that the arrays have the same content with the np.array_equal() function."
      ],
      "metadata": {
        "id": "G7o2l433-Vg3"
      }
    },
    {
      "cell_type": "code",
      "source": [
        "array_lin = np.linspace(start =100,stop = 501,num =51)\n",
        "array_ara = np.arange(start =100,stop = 501.01,step =8.02)\n",
        "print(array_lin)\n",
        "print(array_ara)\n",
        "print(np.array_equal(array_ara,array_lin))"
      ],
      "metadata": {
        "id": "YZSxKGLn-YEg"
      },
      "execution_count": null,
      "outputs": []
    },
    {
      "cell_type": "markdown",
      "source": [
        "Array Indexing\n",
        "\n",
        "First element - Index '0'"
      ],
      "metadata": {
        "id": "wG39W-twDhUL"
      }
    },
    {
      "cell_type": "code",
      "source": [],
      "metadata": {
        "id": "G9AhmXDhIPhB"
      },
      "execution_count": null,
      "outputs": []
    },
    {
      "cell_type": "code",
      "source": [
        "weights"
      ],
      "metadata": {
        "id": "MWEjokw7DpFJ"
      },
      "execution_count": null,
      "outputs": []
    },
    {
      "cell_type": "code",
      "source": [
        "weights1"
      ],
      "metadata": {
        "id": "QmlcIp-TEfTT"
      },
      "execution_count": null,
      "outputs": []
    },
    {
      "cell_type": "code",
      "source": [
        "weights2"
      ],
      "metadata": {
        "colab": {
          "base_uri": "https://localhost:8080/"
        },
        "id": "RA356tN0Ejmf",
        "outputId": "fc6f763d-8822-4a90-c5a8-8f9496bf2eb6"
      },
      "execution_count": null,
      "outputs": [
        {
          "output_type": "execute_result",
          "data": {
            "text/plain": [
              "array([[[40, 41],\n",
              "        [42, 43],\n",
              "        [50, 51],\n",
              "        [52, 53],\n",
              "        [60, 61],\n",
              "        [62, 63]],\n",
              "\n",
              "       [[70, 71],\n",
              "        [72, 73],\n",
              "        [80, 81],\n",
              "        [82, 83],\n",
              "        [90, 91],\n",
              "        [92, 94]]])"
            ]
          },
          "metadata": {},
          "execution_count": 60
        }
      ]
    },
    {
      "cell_type": "code",
      "source": [
        "heights_np"
      ],
      "metadata": {
        "id": "_7OJ7gsVEuwh"
      },
      "execution_count": null,
      "outputs": []
    },
    {
      "cell_type": "code",
      "source": [
        "print(weights2[1][3])"
      ],
      "metadata": {
        "colab": {
          "base_uri": "https://localhost:8080/"
        },
        "id": "YOdiHwx6Hgwy",
        "outputId": "91aa0f91-4121-4167-c622-982af34c0646"
      },
      "execution_count": null,
      "outputs": [
        {
          "output_type": "stream",
          "name": "stdout",
          "text": [
            "[82 83]\n"
          ]
        }
      ]
    },
    {
      "cell_type": "code",
      "source": [],
      "metadata": {
        "id": "zh9VUpZn1JGq"
      },
      "execution_count": null,
      "outputs": []
    },
    {
      "cell_type": "code",
      "source": [
        "weights"
      ],
      "metadata": {
        "colab": {
          "base_uri": "https://localhost:8080/"
        },
        "id": "u8MXol1uIcy9",
        "outputId": "22977d33-dbce-4719-a23f-d686d42553bb"
      },
      "execution_count": null,
      "outputs": [
        {
          "output_type": "execute_result",
          "data": {
            "text/plain": [
              "array([[40, 41, 42, 43],\n",
              "       [50, 51, 52, 53],\n",
              "       [60, 61, 62, 63],\n",
              "       [70, 71, 72, 73],\n",
              "       [80, 81, 82, 83],\n",
              "       [90, 91, 92, 94]])"
            ]
          },
          "metadata": {},
          "execution_count": 6
        }
      ]
    },
    {
      "cell_type": "code",
      "source": [
        "weights[:2,::2]"
      ],
      "metadata": {
        "colab": {
          "base_uri": "https://localhost:8080/"
        },
        "id": "x1-ddDuSISYY",
        "outputId": "b21f4df8-54f1-4939-e0a3-b62dea7eb44c"
      },
      "execution_count": null,
      "outputs": [
        {
          "output_type": "execute_result",
          "data": {
            "text/plain": [
              "array([[40, 42],\n",
              "       [50, 52]])"
            ]
          },
          "metadata": {},
          "execution_count": 62
        }
      ]
    },
    {
      "cell_type": "code",
      "source": [
        "weights2\n",
        "weights2[:3,:3,:1]"
      ],
      "metadata": {
        "colab": {
          "base_uri": "https://localhost:8080/"
        },
        "id": "Ig78nGP01KWZ",
        "outputId": "ae4fae2e-8547-493d-afdd-6025fb5d7c2a"
      },
      "execution_count": null,
      "outputs": [
        {
          "output_type": "execute_result",
          "data": {
            "text/plain": [
              "array([[[40],\n",
              "        [42],\n",
              "        [50]],\n",
              "\n",
              "       [[70],\n",
              "        [72],\n",
              "        [80]]])"
            ]
          },
          "metadata": {},
          "execution_count": 12
        }
      ]
    },
    {
      "cell_type": "markdown",
      "source": [
        "Using negative index intervals"
      ],
      "metadata": {
        "id": "wfHo9XenAFXj"
      }
    },
    {
      "cell_type": "code",
      "source": [
        "heights_np"
      ],
      "metadata": {
        "id": "nJT63MsQARIB"
      },
      "execution_count": null,
      "outputs": []
    },
    {
      "cell_type": "markdown",
      "source": [
        "**Arithmetic** **Operations**"
      ],
      "metadata": {
        "id": "q48VJS6-AYSq"
      }
    },
    {
      "cell_type": "code",
      "source": [],
      "metadata": {
        "id": "3hfsbscnAdXm"
      },
      "execution_count": null,
      "outputs": []
    },
    {
      "cell_type": "markdown",
      "source": [
        "np.add(array1,array2)\n",
        "\n",
        "np.substract()\n",
        "\n",
        "np.multiply()\n",
        "\n",
        "np.divide()"
      ],
      "metadata": {
        "id": "4BFrQUHkAm2v"
      }
    },
    {
      "cell_type": "markdown",
      "source": [
        "**Logical** **Operations**"
      ],
      "metadata": {
        "id": "HhMVVWRAAvds"
      }
    },
    {
      "cell_type": "markdown",
      "source": [],
      "metadata": {
        "id": "nWDVl-tuCCZ8"
      }
    },
    {
      "cell_type": "markdown",
      "source": [
        "np.logical_or()\n",
        "\n",
        "np.logical_and()\n",
        "\n",
        "np.logical_not()"
      ],
      "metadata": {
        "id": "fpRO4zY_BxV6"
      }
    },
    {
      "cell_type": "markdown",
      "source": [
        "**Comparison** -**Relational** **operators** "
      ],
      "metadata": {
        "id": "C47iBorGCEk4"
      }
    },
    {
      "cell_type": "markdown",
      "source": [
        "np.equal()               \n",
        "np.not_equal()                \n",
        "np.less_equal()\n"
      ],
      "metadata": {
        "id": "Wz7wKMRSCVp9"
      }
    },
    {
      "cell_type": "markdown",
      "source": [
        "**Brodcasting**"
      ],
      "metadata": {
        "id": "p4FxAgjuCvWp"
      }
    }
  ]
}