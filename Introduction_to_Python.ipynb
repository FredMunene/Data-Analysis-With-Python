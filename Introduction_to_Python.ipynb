{
  "nbformat": 4,
  "nbformat_minor": 0,
  "metadata": {
    "colab": {
      "provenance": [],
      "authorship_tag": "ABX9TyMpj5yY7VHPyxFHOeFyJibj",
      "include_colab_link": true
    },
    "kernelspec": {
      "name": "python3",
      "display_name": "Python 3"
    },
    "language_info": {
      "name": "python"
    }
  },
  "cells": [
    {
      "cell_type": "markdown",
      "metadata": {
        "id": "view-in-github",
        "colab_type": "text"
      },
      "source": [
        "<a href=\"https://colab.research.google.com/github/FredMunene/Data-Analysis-With-Python/blob/main/Introduction_to_Python.ipynb\" target=\"_parent\"><img src=\"https://colab.research.google.com/assets/colab-badge.svg\" alt=\"Open In Colab\"/></a>"
      ]
    },
    {
      "cell_type": "code",
      "execution_count": null,
      "metadata": {
        "colab": {
          "base_uri": "https://localhost:8080/"
        },
        "id": "tzX6tiGK9JpK",
        "outputId": "12d813fd-ec0b-4437-aa9c-7ccb2e07fb37"
      },
      "outputs": [
        {
          "output_type": "stream",
          "name": "stdout",
          "text": [
            "Hello, DPhi! Today I executed my very first Python program. Thanks!\n"
          ]
        }
      ],
      "source": [
        "print(\"Hello, DPhi! Today I executed my very first Python program. Thanks!\")"
      ]
    },
    {
      "cell_type": "code",
      "source": [
        "a = \"hello wprld\"\n",
        "print (len(a))"
      ],
      "metadata": {
        "colab": {
          "base_uri": "https://localhost:8080/"
        },
        "id": "jXLSik71976B",
        "outputId": "e7b40d81-d2ad-4598-9a09-a30c17d88d5c"
      },
      "execution_count": null,
      "outputs": [
        {
          "output_type": "stream",
          "name": "stdout",
          "text": [
            "11\n"
          ]
        }
      ]
    },
    {
      "cell_type": "code",
      "source": [
        "list = [1, \"baby\", 3.24]\n",
        "list.append(\"baby\")\n",
        "list.count(\"baby\")\n",
        "list.sort()"
      ],
      "metadata": {
        "id": "CW5f9Vdo-LAg"
      },
      "execution_count": null,
      "outputs": []
    },
    {
      "cell_type": "code",
      "source": [
        "tuple = (1,2,3,4)"
      ],
      "metadata": {
        "id": "paTK3k1I-mhw"
      },
      "execution_count": null,
      "outputs": []
    },
    {
      "cell_type": "markdown",
      "source": [
        "# Loops\n"
      ],
      "metadata": {
        "id": "lBcCuWCf-1_p"
      }
    },
    {
      "cell_type": "code",
      "source": [
        "a = (\"a\",\"b\",\"c\")"
      ],
      "metadata": {
        "id": "vY3DtZHI_kjm"
      },
      "execution_count": null,
      "outputs": []
    },
    {
      "cell_type": "code",
      "source": [],
      "metadata": {
        "id": "COltzG1E_tCE"
      },
      "execution_count": null,
      "outputs": []
    },
    {
      "cell_type": "markdown",
      "source": [
        "The syntax of a for loop consists of **assigning a temporary value to a variable on each successive iteration.**"
      ],
      "metadata": {
        "id": "XvV_7WY5XBCp"
      }
    },
    {
      "cell_type": "code",
      "source": [
        "for elements in a:\n",
        "  print (elements)\n"
      ],
      "metadata": {
        "id": "h0G3dyRL_QGC"
      },
      "execution_count": null,
      "outputs": []
    },
    {
      "cell_type": "code",
      "source": [
        "range (1,5)\n",
        "\n",
        "c = list(range(1,5))\n",
        "\n",
        "for i in range(1,5):\n",
        "  print(i)"
      ],
      "metadata": {
        "id": "1nvYoj4bAO4y"
      },
      "execution_count": null,
      "outputs": []
    },
    {
      "cell_type": "markdown",
      "source": [
        "Using While loop to print first ten natural numbers."
      ],
      "metadata": {
        "id": "uHm1gdvlEOUb"
      }
    },
    {
      "cell_type": "code",
      "source": [
        "t = []\n",
        "x = 0\n",
        "while len(t) < 10:\n",
        "  x += 1\n",
        "  t.append(x)\n",
        "print(t)\n",
        "\n",
        "\n",
        "\n",
        "\n"
      ],
      "metadata": {
        "colab": {
          "base_uri": "https://localhost:8080/"
        },
        "id": "wE9E8S9WDQxM",
        "outputId": "568cd594-97d4-4e6b-a6e7-e4084fca22c4"
      },
      "execution_count": null,
      "outputs": [
        {
          "output_type": "stream",
          "name": "stdout",
          "text": [
            "[1, 2, 3, 4, 5, 6, 7, 8, 9, 10]\n"
          ]
        }
      ]
    },
    {
      "cell_type": "markdown",
      "source": [
        "Iterate over list and print the elements"
      ],
      "metadata": {
        "id": "MZQ9pYNyGvRe"
      }
    },
    {
      "cell_type": "code",
      "source": [
        "list1 = [12, 15, 32, 42, 55, 75, 122, 132, 150, 180, 200]\n",
        "for i in list1:\n",
        "  print(i, end =\" \")"
      ],
      "metadata": {
        "colab": {
          "base_uri": "https://localhost:8080/"
        },
        "id": "O6SRMAikGzGZ",
        "outputId": "41767957-b140-481d-f583-e2ee88e03d6f"
      },
      "execution_count": null,
      "outputs": [
        {
          "output_type": "stream",
          "name": "stdout",
          "text": [
            "12 15 32 42 55 75 122 132 150 180 200 "
          ]
        }
      ]
    },
    {
      "cell_type": "markdown",
      "source": [
        "Accept a number n from the user and print its multiplication table"
      ],
      "metadata": {
        "id": "WxmGLLyeHIkJ"
      }
    },
    {
      "cell_type": "code",
      "source": [
        "n = int(input(\"Enter a number to get its multiplication table\"))\n",
        "multiples_n = []\n",
        "for i in range (100):\n",
        "  m = i*n\n",
        "  multiples_n.append(m)\n",
        "print(multiples_n)\n"
      ],
      "metadata": {
        "colab": {
          "base_uri": "https://localhost:8080/"
        },
        "id": "bkYpDydQHPBz",
        "outputId": "e56bd913-528c-47e8-c5d2-effc8f8adef9"
      },
      "execution_count": null,
      "outputs": [
        {
          "output_type": "stream",
          "name": "stdout",
          "text": [
            "Enter a number to get its multiplication table6\n",
            "[0, 6, 12, 18, 24, 30, 36, 42, 48, 54, 60, 66, 72, 78, 84, 90, 96, 102, 108, 114, 120, 126, 132, 138, 144, 150, 156, 162, 168, 174, 180, 186, 192, 198, 204, 210, 216, 222, 228, 234, 240, 246, 252, 258, 264, 270, 276, 282, 288, 294, 300, 306, 312, 318, 324, 330, 336, 342, 348, 354, 360, 366, 372, 378, 384, 390, 396, 402, 408, 414, 420, 426, 432, 438, 444, 450, 456, 462, 468, 474, 480, 486, 492, 498, 504, 510, 516, 522, 528, 534, 540, 546, 552, 558, 564, 570, 576, 582, 588, 594]\n"
          ]
        }
      ]
    },
    {
      "cell_type": "markdown",
      "source": [
        "Break,"
      ],
      "metadata": {
        "id": "Rf5gkrGDWEEE"
      }
    },
    {
      "cell_type": "code",
      "source": [
        "numbers = [0, 254, 2, -1, 3]\n",
        "\n",
        "for num in numbers:\n",
        "  if (num < 0):\n",
        "    print(\"Negative number detected!\")\n",
        "    break\n",
        "  print(num)"
      ],
      "metadata": {
        "colab": {
          "base_uri": "https://localhost:8080/"
        },
        "id": "9iA-pl32Vyij",
        "outputId": "107f4272-ef52-4b0f-9d21-405c185d883c"
      },
      "execution_count": null,
      "outputs": [
        {
          "output_type": "stream",
          "name": "stdout",
          "text": [
            "0\n",
            "254\n",
            "2\n",
            "-1\n",
            "3\n"
          ]
        }
      ]
    },
    {
      "cell_type": "markdown",
      "source": [
        "Use the ***enumerate function*** to print the elements of this list along with the indices:\n",
        "grocery = ['bread', 'milk', 'butter']\n",
        "\n",
        "Enumarate function iterates over elements of a list and associates an index with them."
      ],
      "metadata": {
        "id": "0nGylWfCI85l"
      }
    },
    {
      "cell_type": "code",
      "source": [
        "grocery = ['bread', 'milk', 'butter']\n",
        "for index, snack in enumerate(grocery):\n",
        "  print(\"index \" + str(index)+ \":\" + str(snack))"
      ],
      "metadata": {
        "colab": {
          "base_uri": "https://localhost:8080/"
        },
        "id": "SXIQ9lfvI--G",
        "outputId": "b26057a9-4ea1-48a1-f08e-a70135c9d6c4"
      },
      "execution_count": null,
      "outputs": [
        {
          "output_type": "stream",
          "name": "stdout",
          "text": [
            "index 0:bread\n",
            "index 1:milk\n",
            "index 2:butter\n"
          ]
        }
      ]
    },
    {
      "cell_type": "code",
      "source": [
        "grocery = ['bread', 'milk', 'butter']\n",
        "i=0\n",
        "while i < len(grocery):\n",
        "  print (\"index \" + str(i)+\" : \"+ grocery[i] )\n",
        "  i+=1\n",
        "\n",
        "#print(grocery[0])\n"
      ],
      "metadata": {
        "colab": {
          "base_uri": "https://localhost:8080/"
        },
        "id": "8t2oSKlVKpgs",
        "outputId": "abeeea33-48de-4b63-c052-3ca8fd62641b"
      },
      "execution_count": null,
      "outputs": [
        {
          "output_type": "stream",
          "name": "stdout",
          "text": [
            "index 0 : bread\n",
            "index 1 : milk\n",
            "index 2 : butter\n"
          ]
        }
      ]
    },
    {
      "cell_type": "markdown",
      "source": [
        "Take a number n from the user and find the sum of all numbers between 1 to n"
      ],
      "metadata": {
        "id": "5hhleX8oMeW7"
      }
    },
    {
      "cell_type": "code",
      "source": [
        "n = int(input(\"Enter a number to get its multiplication table\"))\n"
      ],
      "metadata": {
        "id": "bSYTY3uxMfJU"
      },
      "execution_count": null,
      "outputs": []
    },
    {
      "cell_type": "markdown",
      "source": [
        "**Python List Comprehension**;\n",
        "Outputs a list always.\n",
        "List comprehension for the squares of all even numbers between 0 and 9"
      ],
      "metadata": {
        "id": "wd2EsY9yWXix"
      }
    },
    {
      "cell_type": "code",
      "source": [
        "result = [x**2 for x in range(10) if x % 2 == 0]\n",
        "print(result)"
      ],
      "metadata": {
        "colab": {
          "base_uri": "https://localhost:8080/"
        },
        "id": "k3_xhcr2WkYA",
        "outputId": "7ca9c991-a5e9-4caa-f4f0-f8fb1501e370"
      },
      "execution_count": null,
      "outputs": [
        {
          "output_type": "stream",
          "name": "stdout",
          "text": [
            "[0, 4, 16, 36, 64]\n"
          ]
        }
      ]
    },
    {
      "cell_type": "markdown",
      "source": [
        "**TASK 5**: Print the letters of the string \"Python\" in the same line:\n",
        "Using a simple for loop\n",
        "Using the range function"
      ],
      "metadata": {
        "id": "TqSB3tF7c_sA"
      }
    },
    {
      "cell_type": "code",
      "source": [
        "word = \"Python\"\n",
        "for i in word:\n",
        "  print(i, end =\" \")"
      ],
      "metadata": {
        "colab": {
          "base_uri": "https://localhost:8080/"
        },
        "id": "7c_R-d3JteLo",
        "outputId": "2785c9f4-904e-4678-eefa-51ef49afbc2b"
      },
      "execution_count": 1,
      "outputs": [
        {
          "output_type": "stream",
          "name": "stdout",
          "text": [
            "P y t h o n "
          ]
        }
      ]
    },
    {
      "cell_type": "markdown",
      "source": [
        "**TASK 7:**Create a sequence of numbers from 3 to 5, and print each item in the sequence."
      ],
      "metadata": {
        "id": "vjSimOhldLoC"
      }
    },
    {
      "cell_type": "code",
      "source": [
        "for i in range(3,5):\n",
        "  print(i)"
      ],
      "metadata": {
        "colab": {
          "base_uri": "https://localhost:8080/"
        },
        "id": "_Ep1IZOUtziK",
        "outputId": "4429f3a4-3372-4a71-d776-24cf2f4bedac"
      },
      "execution_count": 2,
      "outputs": [
        {
          "output_type": "stream",
          "name": "stdout",
          "text": [
            "3\n",
            "4\n"
          ]
        }
      ]
    },
    {
      "cell_type": "markdown",
      "source": [
        "**TASK 6:**Create a sequence of numbers from 3 to 19, but increment by 2 instead of 1."
      ],
      "metadata": {
        "id": "7jv9vPkndEti"
      }
    },
    {
      "cell_type": "code",
      "source": [
        "for i in range(2,19,2):\n",
        "  print(i)"
      ],
      "metadata": {
        "id": "Z-Dpka65t_o5"
      },
      "execution_count": null,
      "outputs": []
    },
    {
      "cell_type": "markdown",
      "source": [
        "IF-ELSE"
      ],
      "metadata": {
        "id": "2QSNkvpmVSHa"
      }
    },
    {
      "cell_type": "code",
      "source": [
        "if -2:\n",
        "  print(\"Hello World\")"
      ],
      "metadata": {
        "colab": {
          "base_uri": "https://localhost:8080/"
        },
        "id": "NftDLzlsVQHT",
        "outputId": "749e0c79-8480-4fbc-83d8-409800530460"
      },
      "execution_count": 4,
      "outputs": [
        {
          "output_type": "stream",
          "name": "stdout",
          "text": [
            "Hello World\n"
          ]
        }
      ]
    },
    {
      "cell_type": "markdown",
      "source": [
        "If-elif-else\n"
      ],
      "metadata": {
        "id": "QSRLGZM6VQtc"
      }
    },
    {
      "cell_type": "markdown",
      "source": [
        "Dictionary"
      ],
      "metadata": {
        "id": "tRdb255TXG-r"
      }
    },
    {
      "cell_type": "code",
      "source": [
        "my_dict = { 1:\"Blue\", 2: \"Yellow\"}"
      ],
      "metadata": {
        "id": "au7JMac0XOdI"
      },
      "execution_count": 5,
      "outputs": []
    },
    {
      "cell_type": "markdown",
      "source": [
        "looping over dictionaryusing a method, .items()"
      ],
      "metadata": {
        "id": "_Gu1stGgXd1e"
      }
    },
    {
      "cell_type": "code",
      "source": [
        "for key, value in my_dict.items() :\n",
        "  print(str(key) + \" --\" + value)"
      ],
      "metadata": {
        "colab": {
          "base_uri": "https://localhost:8080/"
        },
        "id": "-BLHBuaKXnXg",
        "outputId": "ddb4eefb-6eb0-4217-b47d-d3cfe26ebd7d"
      },
      "execution_count": 7,
      "outputs": [
        {
          "output_type": "stream",
          "name": "stdout",
          "text": [
            "1 --Blue\n",
            "2 --Yellow\n"
          ]
        }
      ]
    },
    {
      "cell_type": "markdown",
      "source": [
        "Task 1: Take values of length and breadth of a rectangle from the user and check if it is a square."
      ],
      "metadata": {
        "id": "v3oj7JK5YS4L"
      }
    },
    {
      "cell_type": "code",
      "source": [
        "length = int(input(\"Enter the length your rectangle \"))\n",
        "breadth = int(input(\"Enter the breadth your rectangle \"))\n",
        "\n",
        "if length == breadth:\n",
        "  print (\"Your rectangle of length \" + str(length) +\" and breath \" + str(breadth) + \" is a square.\")\n",
        "else:\n",
        "  print(\"Your rectangle of length 1\" + str(length) +\" and breath \" + str(breadth) + \" is a true rectangle.\")"
      ],
      "metadata": {
        "colab": {
          "base_uri": "https://localhost:8080/"
        },
        "id": "yrn4MOvEguHw",
        "outputId": "c9841c7c-f634-4e81-9c37-bbe96e665211"
      },
      "execution_count": 40,
      "outputs": [
        {
          "output_type": "stream",
          "name": "stdout",
          "text": [
            "Enter the length your rectangle 3\n",
            "Enter the breadth your rectangle 6\n",
            "Your rectangle of length 13 and breath 6 is a true rectangle.\n"
          ]
        }
      ]
    },
    {
      "cell_type": "markdown",
      "source": [
        "Task 2: Take two int values from the user and print the greatest among them."
      ],
      "metadata": {
        "id": "1BTvIM4BYWM_"
      }
    },
    {
      "cell_type": "code",
      "source": [
        "n1 = int(input(\"Enter your first number \"))\n",
        "n2 = int(input(\"Enter your second number \"))\n",
        "\n",
        "if n2 > n1 :\n",
        "  print (str(n2) + \" is greater than \" + str(n1))\n",
        "else:\n",
        "  print (str(n1) + \" is greater than \" + str(n2))"
      ],
      "metadata": {
        "colab": {
          "base_uri": "https://localhost:8080/"
        },
        "id": "Q0S_WCyCf265",
        "outputId": "db362799-f08a-4d36-f5ee-53039e5be970"
      },
      "execution_count": 35,
      "outputs": [
        {
          "output_type": "stream",
          "name": "stdout",
          "text": [
            "Enter your first number 3\n",
            "Enter your second number 4\n",
            "4 is greater than 3\n"
          ]
        }
      ]
    },
    {
      "cell_type": "markdown",
      "source": [
        "Task 3:Write a program to read a candidate's age and determine whether they are eligible to cast their vote."
      ],
      "metadata": {
        "id": "N6yCbYt7YaCd"
      }
    },
    {
      "cell_type": "code",
      "source": [
        "age = int(input(\"what's your age? \"))\n",
        "\n",
        "if age > 18:\n",
        "  print(\" You can vote\")\n",
        "else:\n",
        "    print(\"You have to be over 18 yrs to vote\")"
      ],
      "metadata": {
        "colab": {
          "base_uri": "https://localhost:8080/"
        },
        "id": "Ws3Lolyde7F-",
        "outputId": "bbf711a3-01ce-4599-9d9b-be3405884b64"
      },
      "execution_count": 33,
      "outputs": [
        {
          "output_type": "stream",
          "name": "stdout",
          "text": [
            "what's your age? 15\n",
            "You have to be over 18 yrs to vote\n"
          ]
        }
      ]
    },
    {
      "cell_type": "markdown",
      "source": [
        "Task 4: Write a Python program to add a key to a dictionary.\n",
        "Sample Dictionary : {0: 10, 1: 20}\n",
        "Expected Result : {0: 10, 1: 20, 2: 30}"
      ],
      "metadata": {
        "id": "OdW1gh3YYdzX"
      }
    },
    {
      "cell_type": "code",
      "source": [
        "Sample_Dict = { 0:10,1:20}\n",
        "Sample_Dict[2]: 30\n",
        "Sample_Dict.update({3:40})\n",
        "Sample_Dict2 = {4:50}\n",
        "Sample_Dict.update(Sample_Dict2)\n",
        "print(Sample_Dict)"
      ],
      "metadata": {
        "colab": {
          "base_uri": "https://localhost:8080/"
        },
        "id": "FgLRGcQrd62a",
        "outputId": "3f0dd11d-cf50-4cee-f5d7-e0d8c5558ffc"
      },
      "execution_count": 26,
      "outputs": [
        {
          "output_type": "stream",
          "name": "stdout",
          "text": [
            "{0: 10, 1: 20, 3: 40, 4: 50}\n"
          ]
        }
      ]
    },
    {
      "cell_type": "markdown",
      "source": [
        "Task 5: Below are two lists; convert them into a dictionary. keys = ['Ten', 'Twenty', 'Thirty']\n",
        "values = [10, 20, 30]\n",
        "Expected output:\n",
        "{'Ten': 10, 'Twenty': 20, 'Thirty': 30}"
      ],
      "metadata": {
        "id": "fK0WoXU5Yig4"
      }
    },
    {
      "cell_type": "code",
      "source": [
        "keys = ['Ten', 'Twenty', 'Thirty']\n",
        "values = [10, 20, 30] \n",
        "print(dict(zip(keys,values)))"
      ],
      "metadata": {
        "colab": {
          "base_uri": "https://localhost:8080/"
        },
        "id": "zh9Ink6Mbusn",
        "outputId": "49a7a9bc-ec5a-4c09-d992-a9b527c73037"
      },
      "execution_count": 16,
      "outputs": [
        {
          "output_type": "stream",
          "name": "stdout",
          "text": [
            "{'Ten': 10, 'Twenty': 20, 'Thirty': 30}\n"
          ]
        }
      ]
    },
    {
      "cell_type": "code",
      "source": [
        "print({key: value for key, value in zip(keys,values)})\n",
        "\n",
        "#dictionary = {key: value for key, value in zip(keys, values)}\n"
      ],
      "metadata": {
        "colab": {
          "base_uri": "https://localhost:8080/"
        },
        "id": "3-dT263rcr2V",
        "outputId": "d48773c9-22b7-419c-8315-ed4f1b1fb70c"
      },
      "execution_count": 20,
      "outputs": [
        {
          "output_type": "stream",
          "name": "stdout",
          "text": [
            "{'Ten': 10, 'Twenty': 20, 'Thirty': 30}\n"
          ]
        }
      ]
    },
    {
      "cell_type": "markdown",
      "source": [
        "Task 6: Access the value of key 'history"
      ],
      "metadata": {
        "id": "J0Y6R7RxYmfx"
      }
    },
    {
      "cell_type": "code",
      "source": [
        "sampleDict = {\n",
        "\"class\":{\n",
        "\"student\":{\n",
        "\"name\":\"Mike\",\n",
        "\"marks\":{\n",
        "\"physics\":70,\n",
        "\"history\":80\n",
        "}\n",
        "}\n",
        "}\n",
        "}\n",
        "print (sampleDict.get(\"class\",{}).get(\"student\",{}).get(\"marks\",{}).get(\"history\"))"
      ],
      "metadata": {
        "colab": {
          "base_uri": "https://localhost:8080/"
        },
        "id": "lVg4gMYZYvBA",
        "outputId": "5d5f3daa-9412-449d-fa58-7de2c6886011"
      },
      "execution_count": 13,
      "outputs": [
        {
          "output_type": "stream",
          "name": "stdout",
          "text": [
            "80\n"
          ]
        }
      ]
    },
    {
      "cell_type": "markdown",
      "source": [
        "Task 7: Try to do the following:\n",
        "Add a key to inventory called 'pocket'.\n",
        "Set the value of 'pocket' to be a list consisting of the strings' seashell', 'strange berry', and 'lint'.\n",
        ".sort()the items in the list stored under the 'backpack' key.\n",
        "Then .remove('dagger') from the list of items stored under the 'backpack' key.\n",
        "Add 50 to the number stored under the 'gold' key.\n"
      ],
      "metadata": {
        "id": "73rb9H3IYnKa"
      }
    },
    {
      "cell_type": "code",
      "source": [
        "inventory = {\n",
        "'gold' : 500,\n",
        "'pouch' : ['flint', 'twine', 'gemstone'],\n",
        "'backpack' : ['xylophone','dagger', 'bedroll','bread loaf']\n",
        "}"
      ],
      "metadata": {
        "id": "CAJrkM0CY5du"
      },
      "execution_count": null,
      "outputs": []
    }
  ]
}