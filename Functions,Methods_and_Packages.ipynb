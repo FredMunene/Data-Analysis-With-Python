{
  "nbformat": 4,
  "nbformat_minor": 0,
  "metadata": {
    "colab": {
      "provenance": [],
      "authorship_tag": "ABX9TyNPf4A/bfvWjJ0N1dlhe7HW",
      "include_colab_link": true
    },
    "kernelspec": {
      "name": "python3",
      "display_name": "Python 3"
    },
    "language_info": {
      "name": "python"
    }
  },
  "cells": [
    {
      "cell_type": "markdown",
      "metadata": {
        "id": "view-in-github",
        "colab_type": "text"
      },
      "source": [
        "<a href=\"https://colab.research.google.com/github/FredMunene/Data-Analysis-With-Python/blob/main/Functions%2CMethods_and_Packages.ipynb\" target=\"_parent\"><img src=\"https://colab.research.google.com/assets/colab-badge.svg\" alt=\"Open In Colab\"/></a>"
      ]
    },
    {
      "cell_type": "markdown",
      "source": [
        "Examples of fuctions:\n",
        "\n",
        "\n",
        "1.   sum ()\n",
        "2.   abs()\n",
        "3. print()\n",
        "4. help(built-in)\n",
        "\n",
        "\n"
      ],
      "metadata": {
        "id": "GkXMbNMMjgHH"
      }
    },
    {
      "cell_type": "markdown",
      "source": [
        "# Declaring a Function\n",
        "\n",
        "It is independent of the object, i.e, len() can be used on lists,tuples,strings,dictionaries.\n",
        "\n",
        "function(something)"
      ],
      "metadata": {
        "id": "uKhUs5EKlUd0"
      }
    },
    {
      "cell_type": "code",
      "source": [
        "def myFunction():\n",
        "  print(\"Thy function awakes\")\n",
        "\n",
        "myFunction()"
      ],
      "metadata": {
        "colab": {
          "base_uri": "https://localhost:8080/"
        },
        "id": "uzFYmsZhlj1U",
        "outputId": "2b264dbe-53cf-43f4-c083-0ab1d540ab8e"
      },
      "execution_count": 5,
      "outputs": [
        {
          "output_type": "stream",
          "name": "stdout",
          "text": [
            "Thy function awakes\n"
          ]
        }
      ]
    },
    {
      "cell_type": "markdown",
      "source": [
        "**Methods**\n",
        "\n",
        "It is dependent on the object .i.e, append() is only used on list data type only.\n",
        "\n",
        "function.something()"
      ],
      "metadata": {
        "id": "7ndsi0EgnSkp"
      }
    },
    {
      "cell_type": "code",
      "source": [
        "lst1=[2,3,4]\n",
        "lst1.append(5)\n",
        "print(lst1)"
      ],
      "metadata": {
        "colab": {
          "base_uri": "https://localhost:8080/"
        },
        "id": "uWMNeeR4nVO3",
        "outputId": "4f04f62d-02f2-411e-d5ff-f8f7b7620d54"
      },
      "execution_count": 8,
      "outputs": [
        {
          "output_type": "stream",
          "name": "stdout",
          "text": [
            "[2, 3, 4, 5]\n"
          ]
        }
      ]
    },
    {
      "cell_type": "markdown",
      "source": [
        "**Packages**\n",
        "\n",
        "-Are a collection of multiple Python files aka *\"Modules\"*\n",
        "\n",
        "Packages for data science:\n",
        "\n",
        "\n",
        "1.   Numpy; for working with arrays\n",
        "2.   Matplotlib; for Data visualisation\n",
        "2.   Scikit-learn;for Machine Learning\n",
        "\n",
        "Library => Package >> Sub-package >> Module >> Python functions\n",
        "\n",
        "\n",
        "\n",
        "\n",
        "\n"
      ],
      "metadata": {
        "id": "vm5Vutzao3vp"
      }
    },
    {
      "cell_type": "code",
      "source": [
        "import math\n",
        "\n",
        "print(math.pow(20,5))"
      ],
      "metadata": {
        "colab": {
          "base_uri": "https://localhost:8080/"
        },
        "id": "dQ75MJvHqEFc",
        "outputId": "b1a7274a-3d1c-43a3-bb54-e6c47b0b27f1"
      },
      "execution_count": 11,
      "outputs": [
        {
          "output_type": "stream",
          "name": "stdout",
          "text": [
            "3200000.0\n"
          ]
        }
      ]
    }
  ]
}